{
 "cells": [
  {
   "cell_type": "markdown",
   "metadata": {},
   "source": [
    "# Python numpy"
   ]
  },
  {
   "cell_type": "code",
   "execution_count": 3,
   "metadata": {},
   "outputs": [
    {
     "name": "stdout",
     "output_type": "stream",
     "text": [
      "[1 2 3 4 5]\n"
     ]
    }
   ],
   "source": [
    "'''\n",
    "Lo primero es comprobar que tenemos instalado nmumpy y que lo podemos importar correctamente.\n",
    "La ejecución de este bloque de código nos debe mostrar el array [1,2,3,4,5]\n",
    "'''\n",
    "import numpy as np\n",
    "\n",
    "# Definición de un nuevo 'ndarray', de ahora en adelante lo llamaremos simplemente 'array'\n",
    "test = np.array([1, 2, 3, 4, 5])\n",
    "print(test)"
   ]
  },
  {
   "cell_type": "code",
   "execution_count": null,
   "metadata": {},
   "outputs": [],
   "source": []
  },
  {
   "cell_type": "code",
   "execution_count": null,
   "metadata": {},
   "outputs": [],
   "source": [
    "# Teoría\n",
    "# aplicaciones numpy\n"
   ]
  },
  {
   "cell_type": "markdown",
   "metadata": {},
   "source": [
    "### Primeros pasos"
   ]
  },
  {
   "cell_type": "code",
   "execution_count": 6,
   "metadata": {},
   "outputs": [
    {
     "name": "stdout",
     "output_type": "stream",
     "text": [
      "[1 2 3 4 5 6]\n"
     ]
    },
    {
     "data": {
      "text/plain": [
       "numpy.ndarray"
      ]
     },
     "execution_count": 6,
     "metadata": {},
     "output_type": "execute_result"
    }
   ],
   "source": [
    "a= np.array([1,2,3,4,5,6])\n",
    "print (a)\n",
    "type(a)"
   ]
  },
  {
   "cell_type": "code",
   "execution_count": 8,
   "metadata": {},
   "outputs": [
    {
     "data": {
      "text/plain": [
       "array([[1, 2, 3, 4],\n",
       "       [5, 6, 7, 8]])"
      ]
     },
     "execution_count": 8,
     "metadata": {},
     "output_type": "execute_result"
    }
   ],
   "source": [
    "# definir un array de 2 dimensiones\n",
    "b=np.array ([[1,2,3,4],[5,6,7,8]])\n",
    "b"
   ]
  },
  {
   "cell_type": "code",
   "execution_count": 17,
   "metadata": {},
   "outputs": [
    {
     "data": {
      "text/plain": [
       "array([[1, 2],\n",
       "       [3, 4],\n",
       "       [5, 6],\n",
       "       [7, 8]])"
      ]
     },
     "execution_count": 17,
     "metadata": {},
     "output_type": "execute_result"
    }
   ],
   "source": [
    "b=np.array([[1,2],[3,4],[5,6],[7,8]])\n",
    "b"
   ]
  },
  {
   "cell_type": "code",
   "execution_count": 10,
   "metadata": {},
   "outputs": [
    {
     "data": {
      "text/plain": [
       "4"
      ]
     },
     "execution_count": 10,
     "metadata": {},
     "output_type": "execute_result"
    }
   ],
   "source": [
    "len ([[1,2],[3,4],[5,6],[7,8]])"
   ]
  },
  {
   "cell_type": "code",
   "execution_count": 19,
   "metadata": {},
   "outputs": [
    {
     "name": "stdout",
     "output_type": "stream",
     "text": [
      "[[[1 2]\n",
      "  [3 4]]\n",
      "\n",
      " [[5 6]\n",
      "  [7 8]]]\n"
     ]
    }
   ],
   "source": [
    "#definir un array de 3 dimensiones (2,2,2)\n",
    "c=np.array([[[1,2],[3,4]],[[5,6],[7,8]]])\n",
    "print(c)"
   ]
  },
  {
   "cell_type": "code",
   "execution_count": 23,
   "metadata": {},
   "outputs": [
    {
     "name": "stdout",
     "output_type": "stream",
     "text": [
      "dimensión:  3\n",
      "dimension:  1\n",
      "dimension:  2\n"
     ]
    }
   ],
   "source": [
    "#dimensiones de un array\n",
    "print('dimensión: ',c.ndim)\n",
    "print('dimension: ', a.ndim)\n",
    "print('dimension: ', b.ndim)"
   ]
  },
  {
   "cell_type": "code",
   "execution_count": 27,
   "metadata": {},
   "outputs": [
    {
     "name": "stdout",
     "output_type": "stream",
     "text": [
      "shape c: (2, 2, 2)\n",
      "shape a: (6,)\n",
      "shape b: (4, 2)\n"
     ]
    }
   ],
   "source": [
    "print ('shape c:' , c.shape)\n",
    "print ('shape a:' , a.shape)\n",
    "print ('shape b:' , b.shape)"
   ]
  },
  {
   "cell_type": "code",
   "execution_count": 29,
   "metadata": {},
   "outputs": [
    {
     "name": "stdout",
     "output_type": "stream",
     "text": [
      "int32\n"
     ]
    }
   ],
   "source": [
    "print (a.dtype)"
   ]
  },
  {
   "cell_type": "code",
   "execution_count": 30,
   "metadata": {},
   "outputs": [
    {
     "name": "stdout",
     "output_type": "stream",
     "text": [
      "int16\n"
     ]
    }
   ],
   "source": [
    "a=np.array([1,2,3,4,5,6], dtype=np.int16)\n",
    "print(a.dtype)"
   ]
  },
  {
   "cell_type": "code",
   "execution_count": 37,
   "metadata": {},
   "outputs": [
    {
     "name": "stdout",
     "output_type": "stream",
     "text": [
      "2\n",
      "4\n"
     ]
    }
   ],
   "source": [
    "print(a.itemsize)\n",
    "print(b.itemsize)"
   ]
  },
  {
   "cell_type": "code",
   "execution_count": 35,
   "metadata": {},
   "outputs": [
    {
     "name": "stdout",
     "output_type": "stream",
     "text": [
      "n elementos 6\n",
      "tamaño de cada elemento 2\n",
      "tamaño total 12\n"
     ]
    }
   ],
   "source": [
    "#obtener el tamaño total de un array\n",
    "print ('n elementos', a.size)\n",
    "print ('tamaño de cada elemento', a.itemsize)\n",
    "print ('tamaño total', a.size * a.itemsize)"
   ]
  },
  {
   "cell_type": "code",
   "execution_count": 33,
   "metadata": {},
   "outputs": [
    {
     "data": {
      "text/plain": [
       "8"
      ]
     },
     "execution_count": 33,
     "metadata": {},
     "output_type": "execute_result"
    }
   ],
   "source": [
    "c.size"
   ]
  },
  {
   "cell_type": "code",
   "execution_count": 39,
   "metadata": {},
   "outputs": [
    {
     "name": "stdout",
     "output_type": "stream",
     "text": [
      "elementos a: 6\n",
      "elementos b: 8\n",
      "elementos c: 8\n"
     ]
    }
   ],
   "source": [
    "#número de elementos que tiene un array\n",
    "print ('elementos a:', a.size)\n",
    "print ('elementos b:', b.size)\n",
    "print ('elementos c:', c.size)"
   ]
  },
  {
   "cell_type": "code",
   "execution_count": 41,
   "metadata": {},
   "outputs": [
    {
     "name": "stdout",
     "output_type": "stream",
     "text": [
      "[0 1 2 3 4 5 6 7 8 9]\n"
     ]
    }
   ],
   "source": [
    "#otra forma de inicializar arrays\n",
    "e= np.arange(10)\n",
    "print (e)"
   ]
  },
  {
   "cell_type": "code",
   "execution_count": 43,
   "metadata": {},
   "outputs": [
    {
     "name": "stdout",
     "output_type": "stream",
     "text": [
      "[10 11 12 13 14 15 16 17 18 19]\n"
     ]
    }
   ],
   "source": [
    "e2=np.arange(10,20)\n",
    "print (e2)"
   ]
  },
  {
   "cell_type": "code",
   "execution_count": 44,
   "metadata": {},
   "outputs": [
    {
     "name": "stdout",
     "output_type": "stream",
     "text": [
      "[10 15 20 25 30 35 40 45]\n"
     ]
    }
   ],
   "source": [
    "e3=np.arange(10,50,5)\n",
    "print(e3)"
   ]
  },
  {
   "cell_type": "code",
   "execution_count": null,
   "metadata": {},
   "outputs": [],
   "source": []
  },
  {
   "cell_type": "markdown",
   "metadata": {},
   "source": [
    "Ejercicios"
   ]
  },
  {
   "cell_type": "code",
   "execution_count": 27,
   "metadata": {},
   "outputs": [
    {
     "name": "stdout",
     "output_type": "stream",
     "text": [
      "[ 1  2  3  4  5  6  7  8  9 10]\n",
      "La forma de array a  (10,)\n"
     ]
    }
   ],
   "source": [
    "'''\n",
    "Define el array 'a' del 1 al 10\n",
    "'''\n",
    "a=np.arange(1,11)\n",
    "'''\n",
    "Imprime la dimension del array y el shape\n",
    "'''\n",
    "print(a)\n",
    "print ('La forma de array a ', a.shape)"
   ]
  },
  {
   "cell_type": "code",
   "execution_count": null,
   "metadata": {},
   "outputs": [],
   "source": []
  },
  {
   "cell_type": "code",
   "execution_count": 32,
   "metadata": {},
   "outputs": [
    {
     "name": "stdout",
     "output_type": "stream",
     "text": [
      "[[1 2 3]\n",
      " [4 5 6]]\n",
      "La forma de array a  (2, 3)\n"
     ]
    }
   ],
   "source": [
    "''' \n",
    "Define de un array 'b' de dimensiones 2x3 a partir de listas anidadas\n",
    "'''\n",
    "b=np.array([[1,2,3],[4,5,6]])\n",
    "print (b)\n",
    "print ('La forma de array a ', b.shape)"
   ]
  },
  {
   "cell_type": "code",
   "execution_count": 34,
   "metadata": {},
   "outputs": [
    {
     "name": "stdout",
     "output_type": "stream",
     "text": [
      "[[[ 1  2  3]\n",
      "  [ 4  5  6]]\n",
      "\n",
      " [[ 7  8  9]\n",
      "  [10 11 12]]]\n",
      "La forma de array a  (2, 2, 3)\n"
     ]
    },
    {
     "data": {
      "text/plain": [
       "'\\nImprime el número total de elementos del array y el shape\\n'"
      ]
     },
     "execution_count": 34,
     "metadata": {},
     "output_type": "execute_result"
    }
   ],
   "source": [
    "'''\n",
    "Define un array 'c'  de dim 2x2x3 a partir de una lista de listas anidadas \n",
    "'''\n",
    "c=np.array([[[1,2,3],[4,5,6]],[[7,8,9],[10,11,12]]])\n",
    "print(c)\n",
    "print ('La forma de array a ', c.shape)\n",
    "'''\n",
    "Imprime el número total de elementos del array y el shape\n",
    "'''"
   ]
  },
  {
   "cell_type": "markdown",
   "metadata": {},
   "source": [
    "## Accediendo y Modificando elementos de un array"
   ]
  },
  {
   "cell_type": "code",
   "execution_count": 46,
   "metadata": {},
   "outputs": [
    {
     "name": "stdout",
     "output_type": "stream",
     "text": [
      "[7 6 3 8 1 6 9]\n"
     ]
    }
   ],
   "source": [
    "a=np.array([7,6,3,8,1,6,9])\n",
    "print(a)"
   ]
  },
  {
   "cell_type": "code",
   "execution_count": 48,
   "metadata": {},
   "outputs": [
    {
     "name": "stdout",
     "output_type": "stream",
     "text": [
      "8\n"
     ]
    }
   ],
   "source": [
    "#Elemento de la primera posicion\n",
    "a[0]\n",
    "#obtener el 8\n",
    "print(a[3])"
   ]
  },
  {
   "cell_type": "markdown",
   "metadata": {},
   "source": [
    "Obtener un elemento de un array"
   ]
  },
  {
   "cell_type": "code",
   "execution_count": 50,
   "metadata": {},
   "outputs": [
    {
     "name": "stdout",
     "output_type": "stream",
     "text": [
      "8\n"
     ]
    }
   ],
   "source": [
    "#Elemento de la primera posicion\n",
    "a[0]\n",
    "#obtener el 8\n",
    "print(a[3])"
   ]
  },
  {
   "cell_type": "code",
   "execution_count": 53,
   "metadata": {},
   "outputs": [
    {
     "name": "stdout",
     "output_type": "stream",
     "text": [
      "9\n",
      "1\n"
     ]
    }
   ],
   "source": [
    "#error fuera de rango\n",
    "#print(a[16])\n",
    "#indies negativos\n",
    "print (a[-1])\n",
    "#otros indices negativos\n",
    "print(a[-3])"
   ]
  },
  {
   "cell_type": "code",
   "execution_count": 56,
   "metadata": {},
   "outputs": [
    {
     "name": "stdout",
     "output_type": "stream",
     "text": [
      "[ 1  2  3  4  5  6  7  8  9 10 11 12 13 14]\n"
     ]
    }
   ],
   "source": [
    "b= np.arange(1,15)\n",
    "print(b)"
   ]
  },
  {
   "cell_type": "code",
   "execution_count": 57,
   "metadata": {},
   "outputs": [
    {
     "name": "stdout",
     "output_type": "stream",
     "text": [
      "[1 2 3 4]\n"
     ]
    }
   ],
   "source": [
    "#seleccion de rango de elementos\n",
    "print(b[0:4])"
   ]
  },
  {
   "cell_type": "code",
   "execution_count": 59,
   "metadata": {},
   "outputs": [
    {
     "name": "stdout",
     "output_type": "stream",
     "text": [
      "[ 6  7  8  9 10 11 12 13 14]\n"
     ]
    }
   ],
   "source": [
    "print (b[5:15])"
   ]
  },
  {
   "cell_type": "code",
   "execution_count": 61,
   "metadata": {},
   "outputs": [
    {
     "name": "stdout",
     "output_type": "stream",
     "text": [
      "[ 6  8 10 12 14]\n",
      "[14 12 10  8  6  4  2]\n"
     ]
    }
   ],
   "source": [
    "print(b[5:15:2])\n",
    "print(b[15:0:-2])"
   ]
  },
  {
   "cell_type": "code",
   "execution_count": 62,
   "metadata": {},
   "outputs": [
    {
     "name": "stdout",
     "output_type": "stream",
     "text": [
      "[ 1  2  3  4  5  6  7  8  9 10]\n"
     ]
    }
   ],
   "source": [
    "#si no indica nada el inicio  es implicito\n",
    "print(b[:10])"
   ]
  },
  {
   "cell_type": "code",
   "execution_count": 63,
   "metadata": {},
   "outputs": [
    {
     "name": "stdout",
     "output_type": "stream",
     "text": [
      "[ 6  7  8  9 10 11 12 13 14]\n"
     ]
    }
   ],
   "source": [
    "print (b[5:])"
   ]
  },
  {
   "cell_type": "markdown",
   "metadata": {},
   "source": [
    "Obtener una fila completa de un array"
   ]
  },
  {
   "cell_type": "code",
   "execution_count": 64,
   "metadata": {},
   "outputs": [
    {
     "name": "stdout",
     "output_type": "stream",
     "text": [
      "[[1 2 3 4]\n",
      " [5 6 7 8]]\n"
     ]
    }
   ],
   "source": [
    "c=np.array([[1,2,3,4],[5,6,7,8]])\n",
    "print (c)"
   ]
  },
  {
   "cell_type": "code",
   "execution_count": 65,
   "metadata": {},
   "outputs": [
    {
     "name": "stdout",
     "output_type": "stream",
     "text": [
      "6\n"
     ]
    }
   ],
   "source": [
    "#obtener un elemento de 2d\n",
    "print (c[1,1])"
   ]
  },
  {
   "cell_type": "code",
   "execution_count": 67,
   "metadata": {},
   "outputs": [
    {
     "name": "stdout",
     "output_type": "stream",
     "text": [
      "[5 6 7 8]\n"
     ]
    }
   ],
   "source": [
    "#obtener la segunda fila completa\n",
    "print (c[1,:])"
   ]
  },
  {
   "cell_type": "markdown",
   "metadata": {},
   "source": [
    "Obtener una columna completa de un array"
   ]
  },
  {
   "cell_type": "code",
   "execution_count": 68,
   "metadata": {},
   "outputs": [
    {
     "name": "stdout",
     "output_type": "stream",
     "text": [
      "[3 7]\n"
     ]
    }
   ],
   "source": [
    "print(c[:,2])"
   ]
  },
  {
   "cell_type": "markdown",
   "metadata": {},
   "source": [
    "Otras formas de acceder a los elementos de un array"
   ]
  },
  {
   "cell_type": "code",
   "execution_count": 72,
   "metadata": {},
   "outputs": [
    {
     "name": "stdout",
     "output_type": "stream",
     "text": [
      "[[1 3]\n",
      " [5 7]]\n",
      "[[1 3]\n",
      " [5 7]]\n"
     ]
    }
   ],
   "source": [
    "# elementos en posiciones pares de todas las filas\n",
    "print (c[:, 0::2])\n",
    "print (c[:, ::2])"
   ]
  },
  {
   "cell_type": "code",
   "execution_count": 73,
   "metadata": {},
   "outputs": [
    {
     "name": "stdout",
     "output_type": "stream",
     "text": [
      "[[ 0  1  2  3]\n",
      " [ 4  5  6  7]\n",
      " [ 8  9 10 11]\n",
      " [12 13 14 15]\n",
      " [16 17 18 19]\n",
      " [20 21 22 23]\n",
      " [24 25 26 27]\n",
      " [28 29 30 31]\n",
      " [32 33 34 35]\n",
      " [36 37 38 39]]\n"
     ]
    }
   ],
   "source": [
    "d= np.arange(40).reshape(10,4)\n",
    "print(d)"
   ]
  },
  {
   "cell_type": "code",
   "execution_count": null,
   "metadata": {},
   "outputs": [],
   "source": []
  },
  {
   "cell_type": "markdown",
   "metadata": {},
   "source": [
    "Actualizar un elemento de un array"
   ]
  },
  {
   "cell_type": "code",
   "execution_count": 75,
   "metadata": {},
   "outputs": [
    {
     "name": "stdout",
     "output_type": "stream",
     "text": [
      "[[ 0  1  2  3]\n",
      " [ 4  5  6  7]\n",
      " [ 8  9 10 11]\n",
      " [12 13 14 15]\n",
      " [16 17 18 19]\n",
      " [20 21 22 23]\n",
      " [24 25 26 27]\n",
      " [28 29 30 31]\n",
      " [32 33 34 35]\n",
      " [36 37 38 39]]\n"
     ]
    }
   ],
   "source": [
    "\n",
    "e= np.arange(40).reshape(10,4)\n",
    "print(e)"
   ]
  },
  {
   "cell_type": "code",
   "execution_count": 3,
   "metadata": {},
   "outputs": [],
   "source": [
    "e[0,0]=99"
   ]
  },
  {
   "cell_type": "code",
   "execution_count": 4,
   "metadata": {},
   "outputs": [
    {
     "name": "stdout",
     "output_type": "stream",
     "text": [
      "[[99  1  2  3]\n",
      " [ 4  5  6  7]\n",
      " [ 8  9 10 11]\n",
      " [12 13 14 15]\n",
      " [16 17 18 19]\n",
      " [20 21 22 23]\n",
      " [24 25 26 27]\n",
      " [28 29 30 31]\n",
      " [32 33 34 35]\n",
      " [36 37 38 39]]\n"
     ]
    }
   ],
   "source": [
    "print(e)"
   ]
  },
  {
   "cell_type": "code",
   "execution_count": 5,
   "metadata": {},
   "outputs": [
    {
     "name": "stdout",
     "output_type": "stream",
     "text": [
      "[[99  1  2  3]\n",
      " [ 4  5  6  7]\n",
      " [ 8  0 10 11]\n",
      " [12 13 14 15]\n",
      " [16 17 18 19]\n",
      " [20 21 22 23]\n",
      " [24 25 26 27]\n",
      " [28 29 30 31]\n",
      " [32 33 34 35]\n",
      " [36 37 38 39]]\n"
     ]
    }
   ],
   "source": [
    "e[2,1]=0\n",
    "print(e)"
   ]
  },
  {
   "cell_type": "code",
   "execution_count": 6,
   "metadata": {},
   "outputs": [
    {
     "name": "stdout",
     "output_type": "stream",
     "text": [
      "[[99  1  2  3]\n",
      " [ 4  5  6  7]\n",
      " [ 8  0 10 11]\n",
      " [12 13 14 15]\n",
      " [16 17 18 19]\n",
      " [20 21 22 23]\n",
      " [24 25 26 27]\n",
      " [28 29 30 31]\n",
      " [32 33 34 35]\n",
      " [ 0  0  0  0]]\n"
     ]
    }
   ],
   "source": [
    "e[-1,:]=0\n",
    "print(e)"
   ]
  },
  {
   "cell_type": "code",
   "execution_count": 7,
   "metadata": {},
   "outputs": [
    {
     "name": "stdout",
     "output_type": "stream",
     "text": [
      "[[99  1  2  3]\n",
      " [ 4  5  6  7]\n",
      " [ 8  0 10 11]\n",
      " [12 13 14 15]\n",
      " [16 17 18 19]\n",
      " [20 21 22 23]\n",
      " [24 25 26 27]\n",
      " [28 29 30 31]\n",
      " [32 33 34 35]\n",
      " [ 1  2  3  4]]\n"
     ]
    }
   ],
   "source": [
    "e[-1,:]=[1,2,3,4]\n",
    "print(e)"
   ]
  },
  {
   "cell_type": "code",
   "execution_count": 8,
   "metadata": {},
   "outputs": [
    {
     "name": "stdout",
     "output_type": "stream",
     "text": [
      "[[99  1  2  3]\n",
      " [ 4  5  6  7]\n",
      " [ 8  0 10 11]\n",
      " [12 13 14 15]\n",
      " [16 17 18 19]\n",
      " [20 21 22 23]\n",
      " [24 25 26 27]\n",
      " [28 29 30 31]\n",
      " [32 33 34 35]\n",
      " [16 17 18 19]]\n"
     ]
    }
   ],
   "source": [
    "e[-1,:]=e[4,:]\n",
    "print(e)"
   ]
  },
  {
   "cell_type": "code",
   "execution_count": 9,
   "metadata": {},
   "outputs": [
    {
     "name": "stdout",
     "output_type": "stream",
     "text": [
      "[[99  1  2 99]\n",
      " [ 4  5  6  4]\n",
      " [ 8  0 10  8]\n",
      " [12 13 14 12]\n",
      " [16 17 18 16]\n",
      " [20 21 22 20]\n",
      " [24 25 26 24]\n",
      " [28 29 30 28]\n",
      " [32 33 34 32]\n",
      " [16 17 18 16]]\n"
     ]
    }
   ],
   "source": [
    "e[:,-1]=e[:,0]\n",
    "print(e)"
   ]
  },
  {
   "cell_type": "code",
   "execution_count": 11,
   "metadata": {},
   "outputs": [
    {
     "name": "stdout",
     "output_type": "stream",
     "text": [
      "[[99  1  2 99]\n",
      " [ 4  5  6  4]\n",
      " [ 8  0 10  8]\n",
      " [12 13 14 12]\n",
      " [16  0  0 16]\n",
      " [20  0  0 20]\n",
      " [24 25 26 24]\n",
      " [28 29 30 28]\n",
      " [32 33 34 32]\n",
      " [16 17 18 16]]\n"
     ]
    }
   ],
   "source": [
    "e[4:6,1:3]=0\n",
    "print (e)"
   ]
  },
  {
   "cell_type": "code",
   "execution_count": null,
   "metadata": {},
   "outputs": [],
   "source": []
  },
  {
   "cell_type": "markdown",
   "metadata": {},
   "source": [
    "Ejercicios"
   ]
  },
  {
   "cell_type": "code",
   "execution_count": 37,
   "metadata": {},
   "outputs": [
    {
     "name": "stdout",
     "output_type": "stream",
     "text": [
      "[0 1 2 3 4 5 6 7 8 9]\n",
      "4\n"
     ]
    }
   ],
   "source": [
    "'''\n",
    "Define un array 's' de tamaño 10 y selecciona el valor de la posición 5\n",
    "'''\n",
    "s=np.arange(10)\n",
    "print (e2)\n",
    "print(e2[4])"
   ]
  },
  {
   "cell_type": "code",
   "execution_count": 38,
   "metadata": {},
   "outputs": [
    {
     "name": "stdout",
     "output_type": "stream",
     "text": [
      "[0 1 2 3 4 5 6 7 8 9]\n",
      "5\n"
     ]
    }
   ],
   "source": [
    "'''\n",
    "Sobre el array s, selecciona el valor 5\n",
    "'''\n",
    "print (e2)\n",
    "print(e2[5])"
   ]
  },
  {
   "cell_type": "code",
   "execution_count": 43,
   "metadata": {},
   "outputs": [
    {
     "name": "stdout",
     "output_type": "stream",
     "text": [
      "[0 1 2 3 4 5 6 7 8 9]\n",
      "[0 2 4 6 8]\n",
      "[2 4 6 8]\n"
     ]
    }
   ],
   "source": [
    "'''\n",
    "Define el array 's' de tamaño 25 y selecciona los valores pares\n",
    "'''\n",
    "print(e2)\n",
    "print(e2[::2])\n",
    "print(e2[2::2])"
   ]
  },
  {
   "cell_type": "code",
   "execution_count": 44,
   "metadata": {},
   "outputs": [
    {
     "name": "stdout",
     "output_type": "stream",
     "text": [
      "[0 1 2 3 4 5 6 7 8 9]\n",
      "[1 3 5 7 9]\n"
     ]
    }
   ],
   "source": [
    "'''\n",
    "Define el array 's' de tamaño 25 y selecciona los valores impares\n",
    "'''\n",
    "print(e2)\n",
    "print(e2[1::2])\n"
   ]
  },
  {
   "cell_type": "code",
   "execution_count": 45,
   "metadata": {},
   "outputs": [
    {
     "name": "stdout",
     "output_type": "stream",
     "text": [
      "[0 1 2 3 4 5 6 7 8 9]\n",
      "9\n"
     ]
    }
   ],
   "source": [
    "'''\n",
    "Sobre el array s, selecciona el uĺltimo valor\n",
    "'''\n",
    "print(e2)\n",
    "print(e2[-1])"
   ]
  },
  {
   "cell_type": "code",
   "execution_count": 57,
   "metadata": {},
   "outputs": [
    {
     "name": "stdout",
     "output_type": "stream",
     "text": [
      "[ 0  1  2  3  4  5  6  7  8  9 10 11 12 13 14 15 16 17 18 19]\n",
      "[19 18 17 16 15 14 13 12 11 10  9  8  7  6  5  4  3  2  1  0]\n"
     ]
    }
   ],
   "source": [
    "\"\"\"\n",
    "Define el array 's' de tamaño 20 e invierte el orden de los valores\n",
    "\"\"\"\n",
    "e3=np.arange(20)\n",
    "print(e3)\n",
    "\n",
    "print(e3[-1::-1])"
   ]
  },
  {
   "cell_type": "code",
   "execution_count": 63,
   "metadata": {},
   "outputs": [
    {
     "name": "stdout",
     "output_type": "stream",
     "text": [
      "[[1 2]\n",
      " [3 4]]\n",
      "La forma de array:  (2, 2)\n",
      "4\n"
     ]
    }
   ],
   "source": [
    "'''\n",
    "Define un array s2 multidimensional de tamaño 2x2 y selecciona el valor de la segunda fila y la segunda columna\n",
    "'''\n",
    "s2=np.array([[1,2],[3,4]])\n",
    "print(s2)\n",
    "print ('La forma de array: ', s2.shape)\n",
    "print(s2[1,1])"
   ]
  },
  {
   "cell_type": "code",
   "execution_count": 74,
   "metadata": {},
   "outputs": [
    {
     "name": "stdout",
     "output_type": "stream",
     "text": [
      "[[[1 2]\n",
      "  [3 4]]\n",
      "\n",
      " [[5 6]\n",
      "  [7 8]]]\n",
      "La forma de array:  (2, 2, 2)\n",
      "6\n"
     ]
    }
   ],
   "source": [
    "'''\n",
    "Define el array:\n",
    "[\n",
    "[[1, 2], [3, 4]]\n",
    "[[5, 6], [7, 8]]\n",
    "]\n",
    "y selecciona el valor de la segunda dimension, primera fila, segunda columna\n",
    "'''\n",
    "s3=np.array([[[1, 2], [3, 4]],[[5, 6], [7, 8]]])\n",
    "print(s3)\n",
    "print ('La forma de array: ', s3.shape)\n",
    "print(s3[1,0,1])\n"
   ]
  },
  {
   "cell_type": "code",
   "execution_count": 94,
   "metadata": {},
   "outputs": [
    {
     "name": "stdout",
     "output_type": "stream",
     "text": [
      "[[[ 1  2  3]\n",
      "  [ 4  5  6]\n",
      "  [ 7  8  9]\n",
      "  [10 11 12]]\n",
      "\n",
      " [[13 14 15]\n",
      "  [16 17 18]\n",
      "  [19 20 22]\n",
      "  [23 24 25]]]\n",
      "la forma es (2, 4, 3)\n"
     ]
    }
   ],
   "source": [
    "'''\n",
    "Define un array s4 de tamaño 4x4x3 y establece los números centrales a 99\n",
    "'''\n",
    "s4= np.array ([[[1, 2,3], [4, 5,6],[7,8,9],[10,11,12]],[[13, 14,15], [16, 17,18],[19,20,22],[23,24,25]]])\n",
    "print(s4)\n",
    "print ('la forma es', s4.shape)\n",
    "s4= np.array ([[[1, 2,3], [4, 5,6],[7,8,9],[10,11,12]],[[13, 14,15], [16, 17,18],[19,20,22],[23,24,25]]])\n",
    "print(s4)\n",
    "print ('la forma es', s4.shape)\n"
   ]
  },
  {
   "cell_type": "code",
   "execution_count": 134,
   "metadata": {},
   "outputs": [
    {
     "name": "stdout",
     "output_type": "stream",
     "text": [
      "[[[ 1  2  3]\n",
      "  [ 4  5  6]\n",
      "  [ 7  8  9]\n",
      "  [ 9 10 11]]\n",
      "\n",
      " [[12 13 14]\n",
      "  [15 16 17]\n",
      "  [18 19 20]\n",
      "  [21 22 23]]\n",
      "\n",
      " [[24 25 26]\n",
      "  [27 28 29]\n",
      "  [30 31 32]\n",
      "  [33 34 35]]\n",
      "\n",
      " [[36 37 38]\n",
      "  [39 40 41]\n",
      "  [42 43 44]\n",
      "  [45 46 47]]]\n",
      "la forma es (4, 4, 3)\n",
      "[[ 5  6]\n",
      " [16 17]\n",
      " [28 29]\n",
      " [40 41]]\n",
      "[[[ 1  2  3]\n",
      "  [ 4 99  6]\n",
      "  [ 7 99  9]\n",
      "  [ 9 10 11]]\n",
      "\n",
      " [[12 13 14]\n",
      "  [15 99 17]\n",
      "  [18 99 20]\n",
      "  [21 22 23]]\n",
      "\n",
      " [[24 25 26]\n",
      "  [27 99 29]\n",
      "  [30 99 32]\n",
      "  [33 34 35]]\n",
      "\n",
      " [[36 37 38]\n",
      "  [39 99 41]\n",
      "  [42 99 44]\n",
      "  [45 46 47]]]\n"
     ]
    }
   ],
   "source": [
    "s5= np.array ([[[1,2,3],[4,5,6],[7,8,9],[9,10,11]],[[12,13,14],[15,16,17],[18,19,20],[21,22,23]],[[24,25,26],[27,28,29],[30,31,32],[33,34,35]],[[36,37,38],[39,40,41],[42,43,44],[45,46,47]]])\n",
    "print(s5)\n",
    "print ('la forma es', s5.shape)\n",
    "print(s5[:,1,1:3])\n",
    "s5[:,1:3,1]=99\n",
    "print(s5)"
   ]
  },
  {
   "cell_type": "code",
   "execution_count": 135,
   "metadata": {},
   "outputs": [
    {
     "name": "stdout",
     "output_type": "stream",
     "text": [
      "[[[55 50 40]\n",
      "  [44 49 53]\n",
      "  [53 58 58]\n",
      "  [42 42 53]]\n",
      "\n",
      " [[58 50 48]\n",
      "  [49 45 51]\n",
      "  [46 50 40]\n",
      "  [42 53 59]]\n",
      "\n",
      " [[54 50 42]\n",
      "  [46 54 46]\n",
      "  [52 43 44]\n",
      "  [44 52 52]]\n",
      "\n",
      " [[48 56 40]\n",
      "  [57 47 43]\n",
      "  [46 55 51]\n",
      "  [49 58 43]]]\n",
      "la forma es (4, 4, 3)\n"
     ]
    }
   ],
   "source": [
    "s6=np.random.randint(40,60, size=(4,4,3))\n",
    "print(s6)\n",
    "print ('la forma es', s6.shape)\n",
    "\n"
   ]
  },
  {
   "cell_type": "code",
   "execution_count": 124,
   "metadata": {},
   "outputs": [
    {
     "name": "stdout",
     "output_type": "stream",
     "text": [
      "[[[ 1  2  3]\n",
      "  [ 4  5  6]\n",
      "  [ 7  8  9]\n",
      "  [ 9 10 11]\n",
      "  [12 13 14]\n",
      "  [15 16 17]\n",
      "  [18 19 20]\n",
      "  [21 22 23]]\n",
      "\n",
      " [[24 25 26]\n",
      "  [27 28 29]\n",
      "  [30 31 32]\n",
      "  [33 34 35]\n",
      "  [36 37 38]\n",
      "  [39 40 41]\n",
      "  [42 43 44]\n",
      "  [45 46 47]]]\n",
      "(2, 8, 3)\n"
     ]
    }
   ],
   "source": [
    "s5= s5.reshape(2,8,3)\n",
    "print(s5)\n",
    "print(s5.shape)"
   ]
  },
  {
   "cell_type": "code",
   "execution_count": 4,
   "metadata": {},
   "outputs": [
    {
     "name": "stdout",
     "output_type": "stream",
     "text": [
      "la forma es (4, 4, 3)\n",
      "[[[48 58 56]\n",
      "  [43  0 47]\n",
      "  [53  1 52]\n",
      "  [42 53 43]]\n",
      "\n",
      " [[43 44 45]\n",
      "  [47  2 52]\n",
      "  [58  3 55]\n",
      "  [42 41 43]]\n",
      "\n",
      " [[51 56 44]\n",
      "  [42  4 49]\n",
      "  [49  5 41]\n",
      "  [45 56 49]]\n",
      "\n",
      " [[45 42 42]\n",
      "  [47  6 55]\n",
      "  [44  7 52]\n",
      "  [56 45 59]]]\n"
     ]
    }
   ],
   "source": [
    "'''\n",
    "Define un array s4 de tamaño 4x4x3 y establece los números centrales a (0,1), (2,3), (4,5), (6,7)\n",
    "'''\n",
    "s7=np.random.randint(40,60, size=(4,4,3))\n",
    "\n",
    "print ('la forma es', s7.shape)\n",
    "\n",
    "s7[:1,1:2,1]=0\n",
    "s7[:1,2:3,1]=1\n",
    "s7[1:2,1:2,1]=2\n",
    "s7[1:2,2:3,1]=3\n",
    "\n",
    "s7[2:3,1:2,1]=4\n",
    "s7[2:3,2:3,1]=5\n",
    "s7[3:,1:2,1]=6\n",
    "s7[3:,2:3,1]=7\n",
    "print(s7)\n",
    "\n",
    "\n"
   ]
  },
  {
   "cell_type": "code",
   "execution_count": 5,
   "metadata": {},
   "outputs": [
    {
     "name": "stdout",
     "output_type": "stream",
     "text": [
      "la forma es (4, 4, 3)\n",
      "[[[47 40 59]\n",
      "  [50  0 52]\n",
      "  [47  1 55]\n",
      "  [48 49 59]]\n",
      "\n",
      " [[55 53 51]\n",
      "  [59  2 56]\n",
      "  [56  3 46]\n",
      "  [48 59 56]]\n",
      "\n",
      " [[55 56 43]\n",
      "  [48  4 54]\n",
      "  [40  5 40]\n",
      "  [52 49 51]]\n",
      "\n",
      " [[57 52 43]\n",
      "  [47  6 47]\n",
      "  [44  7 40]\n",
      "  [49 46 43]]]\n"
     ]
    }
   ],
   "source": [
    "s7=np.random.randint(40,60, size=(4,4,3))\n",
    "\n",
    "print ('la forma es', s7.shape)\n",
    "s7[:,1:3,1]=[[0,1], [2,3], [4,5], [6,7]]\n",
    "print(s7)"
   ]
  },
  {
   "cell_type": "code",
   "execution_count": 8,
   "metadata": {},
   "outputs": [
    {
     "name": "stdout",
     "output_type": "stream",
     "text": [
      "[[[ 0  1  2]\n",
      "  [ 3  0  5]\n",
      "  [ 6  1  8]\n",
      "  [ 9 10 11]]\n",
      "\n",
      " [[12 13 14]\n",
      "  [15  2 17]\n",
      "  [18  3 20]\n",
      "  [21 22 23]]\n",
      "\n",
      " [[24 25 26]\n",
      "  [27  4 29]\n",
      "  [30  5 32]\n",
      "  [33 34 35]]\n",
      "\n",
      " [[36 37 38]\n",
      "  [39  6 41]\n",
      "  [42  7 44]\n",
      "  [45 46 47]]]\n"
     ]
    }
   ],
   "source": [
    "s4 = np.arange(48).reshape(4,4,3)\n",
    "s4[:,1:-1,1:-1] = np.arange(8).reshape(4,2,1)\n",
    "print(s4) "
   ]
  },
  {
   "cell_type": "code",
   "execution_count": 11,
   "metadata": {},
   "outputs": [
    {
     "name": "stdout",
     "output_type": "stream",
     "text": [
      "[[[0]\n",
      "  [1]]\n",
      "\n",
      " [[2]\n",
      "  [3]]\n",
      "\n",
      " [[4]\n",
      "  [5]]\n",
      "\n",
      " [[6]\n",
      "  [7]]]\n"
     ]
    }
   ],
   "source": [
    "s4 = np.arange(8).reshape(4,2,1)\n",
    "print(s4)"
   ]
  },
  {
   "cell_type": "code",
   "execution_count": null,
   "metadata": {},
   "outputs": [],
   "source": []
  },
  {
   "cell_type": "markdown",
   "metadata": {},
   "source": [
    "## Inicializando diferentes tipos de arrays"
   ]
  },
  {
   "cell_type": "markdown",
   "metadata": {},
   "source": [
    "Matriz de ceros"
   ]
  },
  {
   "cell_type": "code",
   "execution_count": 13,
   "metadata": {},
   "outputs": [
    {
     "name": "stdout",
     "output_type": "stream",
     "text": [
      "[[0. 0. 0. 0.]\n",
      " [0. 0. 0. 0.]\n",
      " [0. 0. 0. 0.]\n",
      " [0. 0. 0. 0.]\n",
      " [0. 0. 0. 0.]\n",
      " [0. 0. 0. 0.]\n",
      " [0. 0. 0. 0.]\n",
      " [0. 0. 0. 0.]\n",
      " [0. 0. 0. 0.]\n",
      " [0. 0. 0. 0.]]\n"
     ]
    }
   ],
   "source": [
    "#podemos inicializar con valor (1dimension o con shape para n dimensiones)\n",
    "zeros= np.zeros((10,4))\n",
    "print(zeros)"
   ]
  },
  {
   "cell_type": "markdown",
   "metadata": {},
   "source": [
    "Matriz de unos"
   ]
  },
  {
   "cell_type": "code",
   "execution_count": 14,
   "metadata": {},
   "outputs": [
    {
     "name": "stdout",
     "output_type": "stream",
     "text": [
      "[[1. 1. 1. 1. 1. 1. 1. 1. 1. 1.]\n",
      " [1. 1. 1. 1. 1. 1. 1. 1. 1. 1.]\n",
      " [1. 1. 1. 1. 1. 1. 1. 1. 1. 1.]\n",
      " [1. 1. 1. 1. 1. 1. 1. 1. 1. 1.]\n",
      " [1. 1. 1. 1. 1. 1. 1. 1. 1. 1.]\n",
      " [1. 1. 1. 1. 1. 1. 1. 1. 1. 1.]\n",
      " [1. 1. 1. 1. 1. 1. 1. 1. 1. 1.]\n",
      " [1. 1. 1. 1. 1. 1. 1. 1. 1. 1.]\n",
      " [1. 1. 1. 1. 1. 1. 1. 1. 1. 1.]\n",
      " [1. 1. 1. 1. 1. 1. 1. 1. 1. 1.]]\n"
     ]
    }
   ],
   "source": [
    "ones=np.ones((10,5))\n",
    "print (ones)"
   ]
  },
  {
   "cell_type": "markdown",
   "metadata": {},
   "source": [
    "Matriz de valores concretos"
   ]
  },
  {
   "cell_type": "code",
   "execution_count": 15,
   "metadata": {},
   "outputs": [
    {
     "name": "stdout",
     "output_type": "stream",
     "text": [
      "[[99 99 99]\n",
      " [99 99 99]\n",
      " [99 99 99]]\n"
     ]
    }
   ],
   "source": [
    "valores=np.full((3,3), 99)\n",
    "print (valores)"
   ]
  },
  {
   "cell_type": "markdown",
   "metadata": {},
   "source": [
    "Matriz de valores concretos (full like)"
   ]
  },
  {
   "cell_type": "code",
   "execution_count": 16,
   "metadata": {},
   "outputs": [
    {
     "name": "stdout",
     "output_type": "stream",
     "text": [
      "[[99. 99. 99. 99. 99. 99. 99. 99. 99. 99.]\n",
      " [99. 99. 99. 99. 99. 99. 99. 99. 99. 99.]\n",
      " [99. 99. 99. 99. 99. 99. 99. 99. 99. 99.]\n",
      " [99. 99. 99. 99. 99. 99. 99. 99. 99. 99.]\n",
      " [99. 99. 99. 99. 99. 99. 99. 99. 99. 99.]\n",
      " [99. 99. 99. 99. 99. 99. 99. 99. 99. 99.]\n",
      " [99. 99. 99. 99. 99. 99. 99. 99. 99. 99.]\n",
      " [99. 99. 99. 99. 99. 99. 99. 99. 99. 99.]\n",
      " [99. 99. 99. 99. 99. 99. 99. 99. 99. 99.]\n",
      " [99. 99. 99. 99. 99. 99. 99. 99. 99. 99.]]\n"
     ]
    }
   ],
   "source": [
    "full_like=np.full_like (ones,99)\n",
    "print(full_like)"
   ]
  },
  {
   "cell_type": "markdown",
   "metadata": {},
   "source": [
    "Matriz de números aleatorios"
   ]
  },
  {
   "cell_type": "code",
   "execution_count": 17,
   "metadata": {},
   "outputs": [
    {
     "name": "stdout",
     "output_type": "stream",
     "text": [
      "[0.69933993 0.65890048 0.4364544  0.1895868  0.18539504 0.07731655\n",
      " 0.18634096 0.90123792 0.35057783 0.60455985 0.4159217  0.47334178\n",
      " 0.69046586 0.38433576 0.598135   0.66775083 0.95012909 0.14511316\n",
      " 0.87165028 0.33950226]\n"
     ]
    }
   ],
   "source": [
    "aleatorios =np.random.rand(20)\n",
    "print(aleatorios)"
   ]
  },
  {
   "cell_type": "code",
   "execution_count": 18,
   "metadata": {},
   "outputs": [
    {
     "name": "stdout",
     "output_type": "stream",
     "text": [
      "[[0.5141682  0.7129956  0.21024361]\n",
      " [0.79746371 0.65744467 0.33418694]\n",
      " [0.59743534 0.35116824 0.61937543]\n",
      " [0.96929213 0.63258492 0.89199477]]\n"
     ]
    }
   ],
   "source": [
    "f=np.random.rand(4,3)\n",
    "print(f)"
   ]
  },
  {
   "cell_type": "code",
   "execution_count": 20,
   "metadata": {},
   "outputs": [
    {
     "name": "stdout",
     "output_type": "stream",
     "text": [
      "[ 2 39 57 23 45 19  0 34 37 73]\n"
     ]
    }
   ],
   "source": [
    "g=np.random.randint(100,size=10)\n",
    "print(g)"
   ]
  },
  {
   "cell_type": "code",
   "execution_count": 22,
   "metadata": {},
   "outputs": [
    {
     "name": "stdout",
     "output_type": "stream",
     "text": [
      "[[67 85 95 73 85]\n",
      " [84 50 61 68 92]\n",
      " [51 52 97 73 84]\n",
      " [88 98 65 85 68]]\n"
     ]
    }
   ],
   "source": [
    "h= np.random.randint(50,100,size=(4,5))\n",
    "print (h)"
   ]
  },
  {
   "cell_type": "code",
   "execution_count": null,
   "metadata": {},
   "outputs": [],
   "source": [
    "j= np.random.randint(40,50,size=(4,5))\n",
    "print (j)"
   ]
  },
  {
   "cell_type": "markdown",
   "metadata": {},
   "source": [
    "Matriz identidad"
   ]
  },
  {
   "cell_type": "code",
   "execution_count": 24,
   "metadata": {},
   "outputs": [
    {
     "name": "stdout",
     "output_type": "stream",
     "text": [
      "[[1. 0. 0. 0. 0. 0. 0. 0. 0.]\n",
      " [0. 1. 0. 0. 0. 0. 0. 0. 0.]\n",
      " [0. 0. 1. 0. 0. 0. 0. 0. 0.]\n",
      " [0. 0. 0. 1. 0. 0. 0. 0. 0.]\n",
      " [0. 0. 0. 0. 1. 0. 0. 0. 0.]\n",
      " [0. 0. 0. 0. 0. 1. 0. 0. 0.]\n",
      " [0. 0. 0. 0. 0. 0. 1. 0. 0.]\n",
      " [0. 0. 0. 0. 0. 0. 0. 1. 0.]\n",
      " [0. 0. 0. 0. 0. 0. 0. 0. 1.]]\n"
     ]
    }
   ],
   "source": [
    "identidad=np.identity(9)\n",
    "print(identidad)"
   ]
  },
  {
   "cell_type": "markdown",
   "metadata": {},
   "source": [
    "Ejercicios"
   ]
  },
  {
   "cell_type": "code",
   "execution_count": 14,
   "metadata": {},
   "outputs": [
    {
     "name": "stdout",
     "output_type": "stream",
     "text": [
      "[0. 0. 0. 0. 0. 0. 0. 0. 0. 0.]\n",
      "(10,)\n"
     ]
    }
   ],
   "source": [
    "'''\n",
    "Define el array z de dim 1 completo de ceros\n",
    "'''\n",
    "zeros= np.zeros((10))\n",
    "print(zeros)\n",
    "print(zeros.shape)"
   ]
  },
  {
   "cell_type": "code",
   "execution_count": 15,
   "metadata": {},
   "outputs": [
    {
     "name": "stdout",
     "output_type": "stream",
     "text": [
      "[[0. 0. 0. 0. 0. 0. 0. 0.]\n",
      " [0. 0. 0. 0. 0. 0. 0. 0.]\n",
      " [0. 0. 0. 0. 0. 0. 0. 0.]\n",
      " [0. 0. 0. 0. 0. 0. 0. 0.]\n",
      " [0. 0. 0. 0. 0. 0. 0. 0.]\n",
      " [0. 0. 0. 0. 0. 0. 0. 0.]\n",
      " [0. 0. 0. 0. 0. 0. 0. 0.]\n",
      " [0. 0. 0. 0. 0. 0. 0. 0.]]\n",
      "(8, 8)\n"
     ]
    }
   ],
   "source": [
    "'''\n",
    "Define un array z de dim 8x8 completo de ceros\n",
    "'''\n",
    "zeros8= np.zeros((8,8))\n",
    "print(zeros8)\n",
    "print(zeros8.shape)"
   ]
  },
  {
   "cell_type": "code",
   "execution_count": null,
   "metadata": {},
   "outputs": [],
   "source": [
    "'''\n",
    "Define el array 'z' completo de ceros de n dim\n",
    "'''"
   ]
  },
  {
   "cell_type": "code",
   "execution_count": null,
   "metadata": {},
   "outputs": [],
   "source": [
    "'''\n",
    "Define el array 'd' completo de unos de n dim\n",
    "'''"
   ]
  },
  {
   "cell_type": "code",
   "execution_count": null,
   "metadata": {},
   "outputs": [],
   "source": [
    "'''\n",
    "Define un array como el que se muestra a continuación:\n",
    "[[0. 0. 0. 0. 0. 0. 0. 0.]\n",
    " [0. 1. 1. 1. 1. 1. 1. 0.]\n",
    " [0. 1. 1. 1. 1. 1. 1. 0.]\n",
    " [0. 1. 1. 1. 1. 1. 1. 0.]\n",
    " [0. 1. 1. 1. 1. 1. 1. 0.]\n",
    " [0. 1. 1. 1. 1. 1. 1. 0.]\n",
    " [0. 1. 1. 1. 1. 1. 1. 0.]\n",
    " [0. 0. 0. 0. 0. 0. 0. 0.]]\n",
    "'''"
   ]
  },
  {
   "cell_type": "code",
   "execution_count": null,
   "metadata": {},
   "outputs": [],
   "source": [
    "'''\n",
    "Define un array 'g' conun range de 0 a 10 de dim 2\n",
    "'''"
   ]
  },
  {
   "cell_type": "code",
   "execution_count": null,
   "metadata": {},
   "outputs": [],
   "source": [
    "'''\n",
    "Define un array 'h' con un range de 0 a 100 con un paso de 5 y una dim difrente de 1\n",
    "'''"
   ]
  },
  {
   "cell_type": "markdown",
   "metadata": {},
   "source": [
    "## Operaciones con arrays"
   ]
  },
  {
   "cell_type": "markdown",
   "metadata": {},
   "source": [
    "operaciones básicas"
   ]
  },
  {
   "cell_type": "code",
   "execution_count": 17,
   "metadata": {},
   "outputs": [],
   "source": [
    "a = np.array([1, 2, 3, 4, 5])"
   ]
  },
  {
   "cell_type": "code",
   "execution_count": 18,
   "metadata": {},
   "outputs": [
    {
     "name": "stdout",
     "output_type": "stream",
     "text": [
      "[3 4 5 6 7]\n"
     ]
    }
   ],
   "source": [
    "#Listas python\n",
    "#[1,2,3,4,5]\n",
    "# ndarray numpy\n",
    "a=np.array([1, 2, 3, 4, 5])\n",
    "print(a+2)"
   ]
  },
  {
   "cell_type": "code",
   "execution_count": 20,
   "metadata": {},
   "outputs": [
    {
     "data": {
      "text/plain": [
       "array([ 7,  9, 11, 13, 15])"
      ]
     },
     "execution_count": 20,
     "metadata": {},
     "output_type": "execute_result"
    }
   ],
   "source": [
    "b=np.array([6,7,8,9,10])\n",
    "a = np.array([1, 2, 3, 4, 5])\n",
    "a+b\n"
   ]
  },
  {
   "cell_type": "code",
   "execution_count": 23,
   "metadata": {},
   "outputs": [
    {
     "name": "stdout",
     "output_type": "stream",
     "text": [
      "este es c [[0 1 2]\n",
      " [3 4 5]\n",
      " [6 7 8]]\n",
      "este es d [[ 9 10 11]\n",
      " [12 13 14]\n",
      " [15 16 17]]\n",
      "suma [[ 9 11 13]\n",
      " [15 17 19]\n",
      " [21 23 25]]\n"
     ]
    }
   ],
   "source": [
    "#2dimensiones\n",
    "c= np.arange(9).reshape(3,3)\n",
    "d=np.arange(9,18).reshape(3,3)\n",
    "print('este es c',c)\n",
    "print('este es d',d)\n",
    "print('suma',c+d)"
   ]
  },
  {
   "cell_type": "code",
   "execution_count": 26,
   "metadata": {},
   "outputs": [
    {
     "name": "stdout",
     "output_type": "stream",
     "text": [
      "este es c [[0 1 2]\n",
      " [3 4 5]\n",
      " [6 7 8]]\n",
      "este es d [[ 9 10 11]\n",
      " [12 13 14]\n",
      " [15 16 17]]\n",
      "[[ 42  45  48]\n",
      " [150 162 174]\n",
      " [258 279 300]]\n",
      "[[ 42  45  48]\n",
      " [150 162 174]\n",
      " [258 279 300]]\n",
      "[[ 42  45  48]\n",
      " [150 162 174]\n",
      " [258 279 300]]\n"
     ]
    }
   ],
   "source": [
    "#mutiplicacion matrices\n",
    "c= np.arange(9).reshape(3,3)\n",
    "d=np.arange(9,18).reshape(3,3)\n",
    "print('este es c',c)\n",
    "print('este es d',d)\n",
    "print(np.matmul(c,d))\n",
    "#otras formas:\n",
    "print(c.dot(d))\n",
    "print (c@d)"
   ]
  },
  {
   "cell_type": "code",
   "execution_count": 30,
   "metadata": {},
   "outputs": [
    {
     "name": "stdout",
     "output_type": "stream",
     "text": [
      "[[ 0  1  2  3]\n",
      " [ 4  5  6  7]\n",
      " [ 8  9 10 11]\n",
      " [12 13 14 15]\n",
      " [16 17 18 19]\n",
      " [20 21 22 23]]\n",
      "esto es Traspuest [[ 0  4  8 12 16 20]\n",
      " [ 1  5  9 13 17 21]\n",
      " [ 2  6 10 14 18 22]\n",
      " [ 3  7 11 15 19 23]]\n"
     ]
    }
   ],
   "source": [
    "#obterner la traspuesta de una matriz\n",
    "e= np.arange(24).reshape(6,4)\n",
    "print(e)\n",
    "print ('esto es Traspuest',np.transpose(e))"
   ]
  },
  {
   "cell_type": "code",
   "execution_count": null,
   "metadata": {},
   "outputs": [],
   "source": []
  },
  {
   "cell_type": "markdown",
   "metadata": {},
   "source": [
    "Ejercicios"
   ]
  },
  {
   "cell_type": "code",
   "execution_count": null,
   "metadata": {},
   "outputs": [],
   "source": [
    "'''\n",
    "Define un array 'a' de tamaño 4 y un array 'b' de tamaño 4 completo de 1s. A contunuación suma los valores de ambos arrays y comprueba que los valores son correctos.\n",
    "'''"
   ]
  },
  {
   "cell_type": "code",
   "execution_count": null,
   "metadata": {},
   "outputs": [],
   "source": [
    "'''\n",
    "Define un array 'a' de tamaño 4 y un array 'b' de tamaño 4 completo de 1s. A contunuación resta los valores de ambos arrays y comprueba que los valores son correctos.\n",
    "'''\n"
   ]
  },
  {
   "cell_type": "code",
   "execution_count": null,
   "metadata": {},
   "outputs": [],
   "source": [
    "'''\n",
    "Define un array 'a' de tamaño 4 y un array 'b' de tamaño 4 completo de 2s. A contunuación multiplica o divide los valores de ambos arrays y comprueba que los valores son correctos.\n",
    "'''"
   ]
  },
  {
   "cell_type": "markdown",
   "metadata": {},
   "source": [
    "Álgebra lineal"
   ]
  },
  {
   "cell_type": "code",
   "execution_count": null,
   "metadata": {},
   "outputs": [],
   "source": []
  },
  {
   "cell_type": "markdown",
   "metadata": {},
   "source": [
    "Estadísticas"
   ]
  },
  {
   "cell_type": "markdown",
   "metadata": {},
   "source": [
    "operaciones con arrays:\n",
    "- **np.sum():** Suma de todos los elementos de un array\n",
    "- **np.mean():** Media de todos los elementos de un array\n",
    "- **np.std():** Desviación estándar de todos los elementos de un array\n",
    "- **np.var():** Varianza de todos los elementos de un array\n",
    "- **np.min():** Valor mínimo de todos los elementos de un array\n",
    "- **np.max():** Valor máximo de todos los elementos de un array\n",
    "- **np.flip():** Inversa de un array\n"
   ]
  },
  {
   "cell_type": "code",
   "execution_count": 31,
   "metadata": {},
   "outputs": [
    {
     "name": "stdout",
     "output_type": "stream",
     "text": [
      "[[ 0  1  2  3]\n",
      " [ 4  5  6  7]\n",
      " [ 8  9 10 11]\n",
      " [12 13 14 15]\n",
      " [16 17 18 19]\n",
      " [20 21 22 23]]\n"
     ]
    }
   ],
   "source": [
    "a= np.arange(24).reshape(6,4)\n",
    "print(a)"
   ]
  },
  {
   "cell_type": "code",
   "execution_count": 32,
   "metadata": {},
   "outputs": [
    {
     "data": {
      "text/plain": [
       "276"
      ]
     },
     "execution_count": 32,
     "metadata": {},
     "output_type": "execute_result"
    }
   ],
   "source": [
    "#sumatorio\n",
    "sumatorio=np.sum(a)\n",
    "sumatorio"
   ]
  },
  {
   "cell_type": "code",
   "execution_count": 35,
   "metadata": {},
   "outputs": [
    {
     "name": "stdout",
     "output_type": "stream",
     "text": [
      "6\n"
     ]
    }
   ],
   "source": [
    "#sumatorio de la primera fila\n",
    "primera_fila=a[0,:]\n",
    "sumatorio_primera_fila=np.sum(primera_fila)\n",
    "sumatorio_primera_fila\n",
    "#otra forma\n",
    "print(np.sum(a[0,:]))"
   ]
  },
  {
   "cell_type": "code",
   "execution_count": 36,
   "metadata": {},
   "outputs": [
    {
     "data": {
      "text/plain": [
       "11.5"
      ]
     },
     "execution_count": 36,
     "metadata": {},
     "output_type": "execute_result"
    }
   ],
   "source": [
    "#promedio valores\n",
    "promedio=np.mean(a)\n",
    "promedio"
   ]
  },
  {
   "cell_type": "code",
   "execution_count": 38,
   "metadata": {},
   "outputs": [
    {
     "name": "stdout",
     "output_type": "stream",
     "text": [
      "10.0\n"
     ]
    }
   ],
   "source": [
    "#promedio primera fila\n",
    "print(np.mean(a[:,0]))"
   ]
  },
  {
   "cell_type": "code",
   "execution_count": 40,
   "metadata": {},
   "outputs": [
    {
     "name": "stdout",
     "output_type": "stream",
     "text": [
      "0\n",
      "23\n"
     ]
    }
   ],
   "source": [
    "#minimo valor d ela matriz\n",
    "minimo=np.min(a)\n",
    "print(minimo)\n",
    "maximo=np.max(a)\n",
    "print(maximo)"
   ]
  },
  {
   "cell_type": "code",
   "execution_count": 41,
   "metadata": {},
   "outputs": [
    {
     "data": {
      "text/plain": [
       "23"
      ]
     },
     "execution_count": 41,
     "metadata": {},
     "output_type": "execute_result"
    }
   ],
   "source": [
    "#maximo de una seccion del array\n",
    "max_seccion=np.max(a[1:,:])\n",
    "max_seccion"
   ]
  },
  {
   "cell_type": "code",
   "execution_count": 43,
   "metadata": {},
   "outputs": [
    {
     "name": "stdout",
     "output_type": "stream",
     "text": [
      "[[ 0  1  2  3]\n",
      " [ 4  5  6  7]\n",
      " [ 8  9 10 11]\n",
      " [12 13 14 15]\n",
      " [16 17 18 19]\n",
      " [20 21 22 23]]\n"
     ]
    },
    {
     "data": {
      "text/plain": [
       "array([[ 4,  5,  6,  7],\n",
       "       [ 8,  9, 10, 11]])"
      ]
     },
     "execution_count": 43,
     "metadata": {},
     "output_type": "execute_result"
    }
   ],
   "source": [
    "#seleccion 2d [fila ,columna]\n",
    "print (a)\n",
    "a[1:3, :]\n"
   ]
  },
  {
   "cell_type": "code",
   "execution_count": 44,
   "metadata": {},
   "outputs": [
    {
     "name": "stdout",
     "output_type": "stream",
     "text": [
      "[0 1 2 3 4 5 6 7 8 9]\n",
      "[9 8 7 6 5 4 3 2 1 0]\n"
     ]
    }
   ],
   "source": [
    "#flip 1d\n",
    "a=np.arange(10)\n",
    "print(a)\n",
    "print(np.flip(a))"
   ]
  },
  {
   "cell_type": "code",
   "execution_count": 45,
   "metadata": {
    "scrolled": true
   },
   "outputs": [
    {
     "name": "stdout",
     "output_type": "stream",
     "text": [
      "[[ 0  1  2  3]\n",
      " [ 4  5  6  7]\n",
      " [ 8  9 10 11]\n",
      " [12 13 14 15]\n",
      " [16 17 18 19]\n",
      " [20 21 22 23]] \n",
      "\n",
      "[[23 22 21 20]\n",
      " [19 18 17 16]\n",
      " [15 14 13 12]\n",
      " [11 10  9  8]\n",
      " [ 7  6  5  4]\n",
      " [ 3  2  1  0]]\n"
     ]
    }
   ],
   "source": [
    "a=np.arange(24).reshape(6,4)\n",
    "print(a,'\\n')\n",
    "print(np.flip(a))\n"
   ]
  },
  {
   "cell_type": "markdown",
   "metadata": {},
   "source": [
    "## Reorganizando\n",
    "\n"
   ]
  },
  {
   "cell_type": "code",
   "execution_count": 49,
   "metadata": {},
   "outputs": [
    {
     "name": "stdout",
     "output_type": "stream",
     "text": [
      "[[0.07913639 0.82858481 0.03135643 0.85920603 0.72707196 0.57233945\n",
      "  0.97883589 0.67237766 0.90217243 0.02130626]\n",
      " [0.73970608 0.71147981 0.6717377  0.95327881 0.07796935 0.9131564\n",
      "  0.00604703 0.90307174 0.63425833 0.76005243]\n",
      " [0.5911921  0.46527156 0.48510293 0.96148742 0.15615615 0.87356624\n",
      "  0.4041773  0.71675    0.30494083 0.10999773]\n",
      " [0.64437906 0.5653055  0.51253287 0.66829338 0.48505038 0.33491234\n",
      "  0.96818547 0.51501495 0.84264649 0.93109517]\n",
      " [0.13413595 0.99988427 0.56941391 0.03176712 0.31394271 0.77041148\n",
      "  0.25526562 0.11623543 0.77481457 0.15666151]\n",
      " [0.81892202 0.07343063 0.39585819 0.62323323 0.30437278 0.48711445\n",
      "  0.69968121 0.5182042  0.85449299 0.59130298]\n",
      " [0.45332999 0.71620673 0.90256948 0.73610847 0.35726941 0.89104071\n",
      "  0.18767399 0.7149017  0.2177397  0.69568801]\n",
      " [0.49470697 0.70602597 0.04761831 0.95657318 0.5772005  0.37583483\n",
      "  0.96339149 0.70806857 0.0516806  0.85058267]\n",
      " [0.90005257 0.60823296 0.06042406 0.49977455 0.96480463 0.28131756\n",
      "  0.049294   0.09007462 0.03889555 0.91123161]\n",
      " [0.30192463 0.25456838 0.01052763 0.13348131 0.39884939 0.17319334\n",
      "  0.31824959 0.19081116 0.45031913 0.61044015]]\n",
      "(10, 10) \n",
      "\n"
     ]
    }
   ],
   "source": [
    "#Reshape reorganiza el array con la forma indicada\n",
    "a=np.random.rand(100).reshape(10,10)\n",
    "print(a)\n",
    "print(a.shape, '\\n')\n",
    "\n"
   ]
  },
  {
   "cell_type": "code",
   "execution_count": 51,
   "metadata": {},
   "outputs": [
    {
     "data": {
      "text/plain": [
       "array([[11, 10,  9,  8,  7],\n",
       "       [ 0,  1,  2,  3,  4],\n",
       "       [ 6,  7,  8,  9, 10]])"
      ]
     },
     "execution_count": 51,
     "metadata": {},
     "output_type": "execute_result"
    }
   ],
   "source": [
    "#Apilar un array\n",
    "a=np.arange(5)\n",
    "b=np.arange(6,11)\n",
    "c=np.arange(11,6,-1)\n",
    "np.vstack([c,a,b])"
   ]
  },
  {
   "cell_type": "code",
   "execution_count": 53,
   "metadata": {},
   "outputs": [
    {
     "name": "stdout",
     "output_type": "stream",
     "text": [
      "[[ 0  1  2  3]\n",
      " [ 4  5  6  7]\n",
      " [ 8  9 10 11]\n",
      " [12 13 14 15]\n",
      " [16 17 18 19]\n",
      " [20 21 22 23]] \n",
      "\n",
      "[[24 23 22 21]\n",
      " [20 19 18 17]\n",
      " [16 15 14 13]\n",
      " [12 11 10  9]\n",
      " [ 8  7  6  5]\n",
      " [ 4  3  2  1]] \n",
      "\n"
     ]
    },
    {
     "data": {
      "text/plain": [
       "array([[ 0,  1,  2,  3],\n",
       "       [ 4,  5,  6,  7],\n",
       "       [ 8,  9, 10, 11],\n",
       "       [12, 13, 14, 15],\n",
       "       [16, 17, 18, 19],\n",
       "       [20, 21, 22, 23],\n",
       "       [24, 23, 22, 21],\n",
       "       [20, 19, 18, 17],\n",
       "       [16, 15, 14, 13],\n",
       "       [12, 11, 10,  9],\n",
       "       [ 8,  7,  6,  5],\n",
       "       [ 4,  3,  2,  1]])"
      ]
     },
     "execution_count": 53,
     "metadata": {},
     "output_type": "execute_result"
    }
   ],
   "source": [
    "#apilar arrays en 3d horizontal\n",
    "a=np.arange(24).reshape(6,4)\n",
    "b=np.arange(24,0,-1).reshape(6,4)\n",
    "print(a,'\\n')\n",
    "print(b,'\\n')\n",
    "np.vstack([a,b])"
   ]
  },
  {
   "cell_type": "code",
   "execution_count": 55,
   "metadata": {},
   "outputs": [
    {
     "name": "stdout",
     "output_type": "stream",
     "text": [
      "[[ 0  1  2  3]\n",
      " [ 4  5  6  7]\n",
      " [ 8  9 10 11]\n",
      " [12 13 14 15]\n",
      " [16 17 18 19]\n",
      " [20 21 22 23]] \n",
      "\n",
      "esto es b [[24 23 22 21]\n",
      " [20 19 18 17]\n",
      " [16 15 14 13]\n",
      " [12 11 10  9]\n",
      " [ 8  7  6  5]\n",
      " [ 4  3  2  1]] \n",
      "\n",
      "[[[ 0 24]\n",
      "  [ 1 23]\n",
      "  [ 2 22]\n",
      "  [ 3 21]]\n",
      "\n",
      " [[ 4 20]\n",
      "  [ 5 19]\n",
      "  [ 6 18]\n",
      "  [ 7 17]]\n",
      "\n",
      " [[ 8 16]\n",
      "  [ 9 15]\n",
      "  [10 14]\n",
      "  [11 13]]\n",
      "\n",
      " [[12 12]\n",
      "  [13 11]\n",
      "  [14 10]\n",
      "  [15  9]]\n",
      "\n",
      " [[16  8]\n",
      "  [17  7]\n",
      "  [18  6]\n",
      "  [19  5]]\n",
      "\n",
      " [[20  4]\n",
      "  [21  3]\n",
      "  [22  2]\n",
      "  [23  1]]] \n",
      "\n",
      "(6, 4, 2)\n"
     ]
    }
   ],
   "source": [
    "#apilar arrays en 3d \n",
    "a=np.arange(24).reshape(6,4)\n",
    "b=np.arange(24,0,-1).reshape(6,4)\n",
    "print(a,'\\n')\n",
    "print('esto es b',b,'\\n')\n",
    "print (np.dstack([a,b]),'\\n')\n",
    "print (np.dstack([a,b]).shape)"
   ]
  },
  {
   "cell_type": "code",
   "execution_count": 56,
   "metadata": {},
   "outputs": [
    {
     "name": "stdout",
     "output_type": "stream",
     "text": [
      "[[[ 0  1  2  3]\n",
      "  [ 4  5  6  7]\n",
      "  [ 8  9 10 11]\n",
      "  [12 13 14 15]\n",
      "  [16 17 18 19]\n",
      "  [20 21 22 23]]\n",
      "\n",
      " [[24 23 22 21]\n",
      "  [20 19 18 17]\n",
      "  [16 15 14 13]\n",
      "  [12 11 10  9]\n",
      "  [ 8  7  6  5]\n",
      "  [ 4  3  2  1]]]\n"
     ]
    }
   ],
   "source": [
    "#Concatenar en la 3d\n",
    "print (np.array([a,b]))"
   ]
  },
  {
   "cell_type": "markdown",
   "metadata": {},
   "source": [
    "Cargar datos de un fichero"
   ]
  },
  {
   "cell_type": "code",
   "execution_count": 64,
   "metadata": {},
   "outputs": [
    {
     "name": "stdout",
     "output_type": "stream",
     "text": [
      "[[ 1  2 13  4 15  6 17  8 19 10]\n",
      " [11  2 13  4  5 16  7 18  9 20]\n",
      " [21 12 23  6 25  8 27  1 29  1]\n",
      " [31  2 33  4 35  6 37  8 39 10]\n",
      " [41 12 43  6 45  8 47  1 49  1]]\n",
      "<class 'numpy.ndarray'>\n",
      "(5, 10)\n"
     ]
    }
   ],
   "source": [
    "fichero=np.genfromtxt('numpy_values.txt', delimiter=',')\n",
    "#print(fichero)\n",
    "fichero=fichero.astype(int)\n",
    "print(fichero)\n",
    "print(type(fichero))\n",
    "print(fichero.shape)"
   ]
  },
  {
   "cell_type": "code",
   "execution_count": null,
   "metadata": {},
   "outputs": [],
   "source": []
  },
  {
   "cell_type": "markdown",
   "metadata": {},
   "source": [
    "Máscaras booleanas y operaciones avanzadas"
   ]
  },
  {
   "cell_type": "code",
   "execution_count": 63,
   "metadata": {},
   "outputs": [
    {
     "data": {
      "text/plain": [
       "array([[False, False, False, False, False, False, False, False, False,\n",
       "        False],\n",
       "       [False, False, False, False, False, False, False, False, False,\n",
       "        False],\n",
       "       [False, False, False, False, False, False, False, False, False,\n",
       "        False],\n",
       "       [False, False, False, False, False, False, False, False, False,\n",
       "        False],\n",
       "       [ True, False,  True, False,  True, False,  True, False,  True,\n",
       "        False]])"
      ]
     },
     "execution_count": 63,
     "metadata": {},
     "output_type": "execute_result"
    }
   ],
   "source": [
    "#[True,True,False] generar una mascara booleana\n",
    "#La mascara filtra los valores>40\n",
    "mask=fichero>40\n",
    "mask"
   ]
  },
  {
   "cell_type": "code",
   "execution_count": 68,
   "metadata": {},
   "outputs": [
    {
     "name": "stdout",
     "output_type": "stream",
     "text": [
      "[41 43 45 47 49] \n",
      "\n",
      "[ 1  2 13  4 15  6 17  8 19 10 11  2 13  4  5 16  7 18  9 20 21 12 23  6\n",
      " 25  8 27  1 29  1 31  2 33  4 35  6 37  8 39 10 12  6  8  1  1]\n"
     ]
    }
   ],
   "source": [
    "#aplica mascar booleana\n",
    "print(fichero[mask],'\\n')\n",
    "#otra forma\n",
    "print (fichero [fichero<40])"
   ]
  },
  {
   "cell_type": "code",
   "execution_count": 70,
   "metadata": {},
   "outputs": [
    {
     "name": "stdout",
     "output_type": "stream",
     "text": [
      "[[ 1  2 13  4 15  6 17  8 19 10]\n",
      " [11  2 13  4  5 16  7 18  9 20]\n",
      " [21 12 23  6 25  8 27  1 29  1]\n",
      " [31  2 33  4 35  6 37  8 39 10]\n",
      " [ 0 12  0  6  0  8  0  1  0  1]]\n"
     ]
    }
   ],
   "source": [
    "#poner a 0 los valores > 40\n",
    "fichero[mask]=0\n",
    "print(fichero)"
   ]
  },
  {
   "cell_type": "code",
   "execution_count": 72,
   "metadata": {},
   "outputs": [
    {
     "name": "stdout",
     "output_type": "stream",
     "text": [
      "[[False False False False False False False False False False]\n",
      " [False False False False False False False False False False]\n",
      " [False False False False False False False False False False]\n",
      " [ True False  True False  True False  True False  True False]\n",
      " [False False False False False False False False False False]]\n"
     ]
    }
   ],
   "source": [
    "#concatenar condiciones\n",
    "mayores_30_menores_40= (fichero>30) & (fichero<40)\n",
    "print(mayores_30_menores_40)"
   ]
  },
  {
   "cell_type": "code",
   "execution_count": 74,
   "metadata": {},
   "outputs": [
    {
     "data": {
      "text/plain": [
       "array([31, 33, 35, 37, 39])"
      ]
     },
     "execution_count": 74,
     "metadata": {},
     "output_type": "execute_result"
    }
   ],
   "source": [
    "#Aplicar mascara concatenada condiciones\n",
    "fichero[mayores_30_menores_40]"
   ]
  },
  {
   "cell_type": "code",
   "execution_count": 75,
   "metadata": {},
   "outputs": [
    {
     "name": "stdout",
     "output_type": "stream",
     "text": [
      "[[ True  True  True  True  True  True  True  True  True  True]\n",
      " [ True  True  True  True  True  True  True  True  True  True]\n",
      " [ True  True  True  True  True  True  True  True  True  True]\n",
      " [False  True False  True False  True False  True False  True]\n",
      " [ True  True  True  True  True  True  True  True  True  True]]\n"
     ]
    }
   ],
   "source": [
    "#negar condiciones\n",
    "no_ayores_30_no_menores_40= np.logical_not((fichero>30) & (fichero<40))\n",
    "print(no_ayores_30_no_menores_40)"
   ]
  },
  {
   "cell_type": "code",
   "execution_count": 76,
   "metadata": {},
   "outputs": [
    {
     "data": {
      "text/plain": [
       "False"
      ]
     },
     "execution_count": 76,
     "metadata": {},
     "output_type": "execute_result"
    }
   ],
   "source": [
    "#Any\n",
    "#hay algun valor mayor que 50?\n",
    "np.any(fichero>50)"
   ]
  },
  {
   "cell_type": "code",
   "execution_count": 78,
   "metadata": {},
   "outputs": [
    {
     "name": "stdout",
     "output_type": "stream",
     "text": [
      "[[ 1  2 13  4 15  6 17  8 19 10]\n",
      " [11  2 13  4  5 16  7 18  9 20]\n",
      " [21 12 23  6 25  8 27  1 29  1]\n",
      " [31  2 33  4 35  6 37  8 39 10]\n",
      " [ 0 12  0  6  0  8  0  1  0  1]]\n",
      "[False False False False False False False False False False]\n"
     ]
    }
   ],
   "source": [
    "#any se puede especificar si la comprobacion es por filas o columnas con axis\n",
    "#Obtener la columnas que contienen un valor >40\n",
    "print(fichero)\n",
    "colunma_mayores_40=np.any(fichero >40, axis=0)\n",
    "print(colunma_mayores_40)"
   ]
  },
  {
   "cell_type": "code",
   "execution_count": 82,
   "metadata": {},
   "outputs": [],
   "source": [
    "#aplicar\n"
   ]
  },
  {
   "cell_type": "code",
   "execution_count": null,
   "metadata": {},
   "outputs": [],
   "source": []
  },
  {
   "cell_type": "code",
   "execution_count": 80,
   "metadata": {},
   "outputs": [
    {
     "name": "stdout",
     "output_type": "stream",
     "text": [
      "[[ 1  2 13  4 15  6 17  8 19 10]\n",
      " [11  2 13  4  5 16  7 18  9 20]\n",
      " [21 12 23  6 25  8 27  1 29  1]\n",
      " [31  2 33  4 35  6 37  8 39 10]\n",
      " [ 0 12  0  6  0  8  0  1  0  1]]\n",
      "[False False False False False]\n"
     ]
    }
   ],
   "source": [
    "print(fichero)\n",
    "colunma_mayores_40=np.any(fichero >40, axis=1)\n",
    "print(colunma_mayores_40)"
   ]
  },
  {
   "cell_type": "code",
   "execution_count": null,
   "metadata": {},
   "outputs": [],
   "source": []
  }
 ],
 "metadata": {
  "kernelspec": {
   "display_name": "Python 3 (ipykernel)",
   "language": "python",
   "name": "python3"
  },
  "language_info": {
   "codemirror_mode": {
    "name": "ipython",
    "version": 3
   },
   "file_extension": ".py",
   "mimetype": "text/x-python",
   "name": "python",
   "nbconvert_exporter": "python",
   "pygments_lexer": "ipython3",
   "version": "3.9.12"
  },
  "vscode": {
   "interpreter": {
    "hash": "916dbcbb3f70747c44a77c7bcd40155683ae19c65e1c03b4aa3499c5328201f1"
   }
  }
 },
 "nbformat": 4,
 "nbformat_minor": 2
}
